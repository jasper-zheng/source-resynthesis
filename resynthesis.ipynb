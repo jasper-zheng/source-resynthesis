{
 "cells": [
  {
   "cell_type": "code",
   "execution_count": 1,
   "id": "f984a4fc-224d-4305-8de6-5056e9f20ac0",
   "metadata": {
    "collapsed": true,
    "jupyter": {
     "outputs_hidden": true,
     "source_hidden": true
    },
    "scrolled": true
   },
   "outputs": [
    {
     "name": "stdout",
     "output_type": "stream",
     "text": [
      "Collecting cached-conv\n",
      "  Downloading cached_conv-2.5.0-py3-none-any.whl.metadata (5.8 kB)\n",
      "Requirement already satisfied: torch in /home/jasper/miniforge3/envs/tasnet/lib/python3.10/site-packages (from cached-conv) (2.2.1)\n",
      "Requirement already satisfied: filelock in /home/jasper/miniforge3/envs/tasnet/lib/python3.10/site-packages (from torch->cached-conv) (3.13.1)\n",
      "Requirement already satisfied: typing-extensions>=4.8.0 in /home/jasper/miniforge3/envs/tasnet/lib/python3.10/site-packages (from torch->cached-conv) (4.10.0)\n",
      "Requirement already satisfied: sympy in /home/jasper/miniforge3/envs/tasnet/lib/python3.10/site-packages (from torch->cached-conv) (1.12)\n",
      "Requirement already satisfied: networkx in /home/jasper/miniforge3/envs/tasnet/lib/python3.10/site-packages (from torch->cached-conv) (3.2.1)\n",
      "Requirement already satisfied: jinja2 in /home/jasper/miniforge3/envs/tasnet/lib/python3.10/site-packages (from torch->cached-conv) (3.1.3)\n",
      "Requirement already satisfied: fsspec in /home/jasper/miniforge3/envs/tasnet/lib/python3.10/site-packages (from torch->cached-conv) (2024.2.0)\n",
      "Requirement already satisfied: nvidia-cuda-nvrtc-cu12==12.1.105 in /home/jasper/miniforge3/envs/tasnet/lib/python3.10/site-packages (from torch->cached-conv) (12.1.105)\n",
      "Requirement already satisfied: nvidia-cuda-runtime-cu12==12.1.105 in /home/jasper/miniforge3/envs/tasnet/lib/python3.10/site-packages (from torch->cached-conv) (12.1.105)\n",
      "Requirement already satisfied: nvidia-cuda-cupti-cu12==12.1.105 in /home/jasper/miniforge3/envs/tasnet/lib/python3.10/site-packages (from torch->cached-conv) (12.1.105)\n",
      "Requirement already satisfied: nvidia-cudnn-cu12==8.9.2.26 in /home/jasper/miniforge3/envs/tasnet/lib/python3.10/site-packages (from torch->cached-conv) (8.9.2.26)\n",
      "Requirement already satisfied: nvidia-cublas-cu12==12.1.3.1 in /home/jasper/miniforge3/envs/tasnet/lib/python3.10/site-packages (from torch->cached-conv) (12.1.3.1)\n",
      "Requirement already satisfied: nvidia-cufft-cu12==11.0.2.54 in /home/jasper/miniforge3/envs/tasnet/lib/python3.10/site-packages (from torch->cached-conv) (11.0.2.54)\n",
      "Requirement already satisfied: nvidia-curand-cu12==10.3.2.106 in /home/jasper/miniforge3/envs/tasnet/lib/python3.10/site-packages (from torch->cached-conv) (10.3.2.106)\n",
      "Requirement already satisfied: nvidia-cusolver-cu12==11.4.5.107 in /home/jasper/miniforge3/envs/tasnet/lib/python3.10/site-packages (from torch->cached-conv) (11.4.5.107)\n",
      "Requirement already satisfied: nvidia-cusparse-cu12==12.1.0.106 in /home/jasper/miniforge3/envs/tasnet/lib/python3.10/site-packages (from torch->cached-conv) (12.1.0.106)\n",
      "Requirement already satisfied: nvidia-nccl-cu12==2.19.3 in /home/jasper/miniforge3/envs/tasnet/lib/python3.10/site-packages (from torch->cached-conv) (2.19.3)\n",
      "Requirement already satisfied: nvidia-nvtx-cu12==12.1.105 in /home/jasper/miniforge3/envs/tasnet/lib/python3.10/site-packages (from torch->cached-conv) (12.1.105)\n",
      "Requirement already satisfied: triton==2.2.0 in /home/jasper/miniforge3/envs/tasnet/lib/python3.10/site-packages (from torch->cached-conv) (2.2.0)\n",
      "Requirement already satisfied: nvidia-nvjitlink-cu12 in /home/jasper/miniforge3/envs/tasnet/lib/python3.10/site-packages (from nvidia-cusolver-cu12==11.4.5.107->torch->cached-conv) (12.4.99)\n",
      "Requirement already satisfied: MarkupSafe>=2.0 in /home/jasper/miniforge3/envs/tasnet/lib/python3.10/site-packages (from jinja2->torch->cached-conv) (2.1.5)\n",
      "Requirement already satisfied: mpmath>=0.19 in /home/jasper/miniforge3/envs/tasnet/lib/python3.10/site-packages (from sympy->torch->cached-conv) (1.3.0)\n",
      "Downloading cached_conv-2.5.0-py3-none-any.whl (14 kB)\n",
      "Installing collected packages: cached-conv\n",
      "Successfully installed cached-conv-2.5.0\n",
      "Collecting GPUtil\n",
      "  Downloading GPUtil-1.4.0.tar.gz (5.5 kB)\n",
      "  Preparing metadata (setup.py) ... \u001b[?25ldone\n",
      "\u001b[?25hBuilding wheels for collected packages: GPUtil\n",
      "  Building wheel for GPUtil (setup.py) ... \u001b[?25ldone\n",
      "\u001b[?25h  Created wheel for GPUtil: filename=GPUtil-1.4.0-py3-none-any.whl size=7393 sha256=da073e8a04113a8dfc608a3ab94df78cdd39fb60ac4a6e9b7c538f42f94f9bd5\n",
      "  Stored in directory: /home/jasper/.cache/pip/wheels/a9/8a/bd/81082387151853ab8b6b3ef33426e98f5cbfebc3c397a9d4d0\n",
      "Successfully built GPUtil\n",
      "Installing collected packages: GPUtil\n",
      "Successfully installed GPUtil-1.4.0\n",
      "Collecting lmdb\n",
      "  Downloading lmdb-1.4.1-cp310-cp310-manylinux_2_17_x86_64.manylinux2014_x86_64.whl.metadata (1.2 kB)\n",
      "Downloading lmdb-1.4.1-cp310-cp310-manylinux_2_17_x86_64.manylinux2014_x86_64.whl (299 kB)\n",
      "\u001b[2K   \u001b[38;2;114;156;31m━━━━━━━━━━━━━━━━━━━━━━━━━━━━━━━━━━━━━━━━\u001b[0m \u001b[32m299.2/299.2 kB\u001b[0m \u001b[31m13.9 MB/s\u001b[0m eta \u001b[36m0:00:00\u001b[0m\n",
      "\u001b[?25hInstalling collected packages: lmdb\n",
      "Successfully installed lmdb-1.4.1\n",
      "Requirement already satisfied: einops in /home/jasper/miniforge3/envs/tasnet/lib/python3.10/site-packages (0.7.0)\n"
     ]
    }
   ],
   "source": [
    "!pip install cached-conv\n",
    "!pip install GPUtil\n",
    "!pip install lmdb\n",
    "!pip install einops"
   ]
  },
  {
   "cell_type": "code",
   "execution_count": 2,
   "id": "b6a1099a-c456-4fc2-be52-47dbc0b2bab0",
   "metadata": {
    "collapsed": true,
    "jupyter": {
     "outputs_hidden": true,
     "source_hidden": true
    },
    "scrolled": true
   },
   "outputs": [
    {
     "name": "stdout",
     "output_type": "stream",
     "text": [
      "Collecting pytorch_lightning==1.9.0\n",
      "  Downloading pytorch_lightning-1.9.0-py3-none-any.whl.metadata (23 kB)\n",
      "Requirement already satisfied: numpy>=1.17.2 in /home/jasper/miniforge3/envs/tasnet/lib/python3.10/site-packages (from pytorch_lightning==1.9.0) (1.26.4)\n",
      "Requirement already satisfied: torch>=1.10.0 in /home/jasper/miniforge3/envs/tasnet/lib/python3.10/site-packages (from pytorch_lightning==1.9.0) (2.2.1)\n",
      "Requirement already satisfied: tqdm>=4.57.0 in /home/jasper/miniforge3/envs/tasnet/lib/python3.10/site-packages (from pytorch_lightning==1.9.0) (4.66.2)\n",
      "Requirement already satisfied: PyYAML>=5.4 in /home/jasper/miniforge3/envs/tasnet/lib/python3.10/site-packages (from pytorch_lightning==1.9.0) (6.0.1)\n",
      "Requirement already satisfied: fsspec>2021.06.0 in /home/jasper/miniforge3/envs/tasnet/lib/python3.10/site-packages (from fsspec[http]>2021.06.0->pytorch_lightning==1.9.0) (2024.2.0)\n",
      "Requirement already satisfied: torchmetrics>=0.7.0 in /home/jasper/miniforge3/envs/tasnet/lib/python3.10/site-packages (from pytorch_lightning==1.9.0) (0.11.4)\n",
      "Requirement already satisfied: packaging>=17.1 in /home/jasper/miniforge3/envs/tasnet/lib/python3.10/site-packages (from pytorch_lightning==1.9.0) (24.0)\n",
      "Requirement already satisfied: typing-extensions>=4.0.0 in /home/jasper/miniforge3/envs/tasnet/lib/python3.10/site-packages (from pytorch_lightning==1.9.0) (4.10.0)\n",
      "Requirement already satisfied: lightning-utilities>=0.4.2 in /home/jasper/miniforge3/envs/tasnet/lib/python3.10/site-packages (from pytorch_lightning==1.9.0) (0.10.1)\n",
      "Requirement already satisfied: aiohttp!=4.0.0a0,!=4.0.0a1 in /home/jasper/miniforge3/envs/tasnet/lib/python3.10/site-packages (from fsspec[http]>2021.06.0->pytorch_lightning==1.9.0) (3.9.3)\n",
      "Requirement already satisfied: setuptools in /home/jasper/miniforge3/envs/tasnet/lib/python3.10/site-packages (from lightning-utilities>=0.4.2->pytorch_lightning==1.9.0) (69.2.0)\n",
      "Requirement already satisfied: filelock in /home/jasper/miniforge3/envs/tasnet/lib/python3.10/site-packages (from torch>=1.10.0->pytorch_lightning==1.9.0) (3.13.1)\n",
      "Requirement already satisfied: sympy in /home/jasper/miniforge3/envs/tasnet/lib/python3.10/site-packages (from torch>=1.10.0->pytorch_lightning==1.9.0) (1.12)\n",
      "Requirement already satisfied: networkx in /home/jasper/miniforge3/envs/tasnet/lib/python3.10/site-packages (from torch>=1.10.0->pytorch_lightning==1.9.0) (3.2.1)\n",
      "Requirement already satisfied: jinja2 in /home/jasper/miniforge3/envs/tasnet/lib/python3.10/site-packages (from torch>=1.10.0->pytorch_lightning==1.9.0) (3.1.3)\n",
      "Requirement already satisfied: nvidia-cuda-nvrtc-cu12==12.1.105 in /home/jasper/miniforge3/envs/tasnet/lib/python3.10/site-packages (from torch>=1.10.0->pytorch_lightning==1.9.0) (12.1.105)\n",
      "Requirement already satisfied: nvidia-cuda-runtime-cu12==12.1.105 in /home/jasper/miniforge3/envs/tasnet/lib/python3.10/site-packages (from torch>=1.10.0->pytorch_lightning==1.9.0) (12.1.105)\n",
      "Requirement already satisfied: nvidia-cuda-cupti-cu12==12.1.105 in /home/jasper/miniforge3/envs/tasnet/lib/python3.10/site-packages (from torch>=1.10.0->pytorch_lightning==1.9.0) (12.1.105)\n",
      "Requirement already satisfied: nvidia-cudnn-cu12==8.9.2.26 in /home/jasper/miniforge3/envs/tasnet/lib/python3.10/site-packages (from torch>=1.10.0->pytorch_lightning==1.9.0) (8.9.2.26)\n",
      "Requirement already satisfied: nvidia-cublas-cu12==12.1.3.1 in /home/jasper/miniforge3/envs/tasnet/lib/python3.10/site-packages (from torch>=1.10.0->pytorch_lightning==1.9.0) (12.1.3.1)\n",
      "Requirement already satisfied: nvidia-cufft-cu12==11.0.2.54 in /home/jasper/miniforge3/envs/tasnet/lib/python3.10/site-packages (from torch>=1.10.0->pytorch_lightning==1.9.0) (11.0.2.54)\n",
      "Requirement already satisfied: nvidia-curand-cu12==10.3.2.106 in /home/jasper/miniforge3/envs/tasnet/lib/python3.10/site-packages (from torch>=1.10.0->pytorch_lightning==1.9.0) (10.3.2.106)\n",
      "Requirement already satisfied: nvidia-cusolver-cu12==11.4.5.107 in /home/jasper/miniforge3/envs/tasnet/lib/python3.10/site-packages (from torch>=1.10.0->pytorch_lightning==1.9.0) (11.4.5.107)\n",
      "Requirement already satisfied: nvidia-cusparse-cu12==12.1.0.106 in /home/jasper/miniforge3/envs/tasnet/lib/python3.10/site-packages (from torch>=1.10.0->pytorch_lightning==1.9.0) (12.1.0.106)\n",
      "Requirement already satisfied: nvidia-nccl-cu12==2.19.3 in /home/jasper/miniforge3/envs/tasnet/lib/python3.10/site-packages (from torch>=1.10.0->pytorch_lightning==1.9.0) (2.19.3)\n",
      "Requirement already satisfied: nvidia-nvtx-cu12==12.1.105 in /home/jasper/miniforge3/envs/tasnet/lib/python3.10/site-packages (from torch>=1.10.0->pytorch_lightning==1.9.0) (12.1.105)\n",
      "Requirement already satisfied: triton==2.2.0 in /home/jasper/miniforge3/envs/tasnet/lib/python3.10/site-packages (from torch>=1.10.0->pytorch_lightning==1.9.0) (2.2.0)\n",
      "Requirement already satisfied: nvidia-nvjitlink-cu12 in /home/jasper/miniforge3/envs/tasnet/lib/python3.10/site-packages (from nvidia-cusolver-cu12==11.4.5.107->torch>=1.10.0->pytorch_lightning==1.9.0) (12.4.99)\n",
      "Requirement already satisfied: aiosignal>=1.1.2 in /home/jasper/miniforge3/envs/tasnet/lib/python3.10/site-packages (from aiohttp!=4.0.0a0,!=4.0.0a1->fsspec[http]>2021.06.0->pytorch_lightning==1.9.0) (1.3.1)\n",
      "Requirement already satisfied: attrs>=17.3.0 in /home/jasper/miniforge3/envs/tasnet/lib/python3.10/site-packages (from aiohttp!=4.0.0a0,!=4.0.0a1->fsspec[http]>2021.06.0->pytorch_lightning==1.9.0) (23.2.0)\n",
      "Requirement already satisfied: frozenlist>=1.1.1 in /home/jasper/miniforge3/envs/tasnet/lib/python3.10/site-packages (from aiohttp!=4.0.0a0,!=4.0.0a1->fsspec[http]>2021.06.0->pytorch_lightning==1.9.0) (1.4.1)\n",
      "Requirement already satisfied: multidict<7.0,>=4.5 in /home/jasper/miniforge3/envs/tasnet/lib/python3.10/site-packages (from aiohttp!=4.0.0a0,!=4.0.0a1->fsspec[http]>2021.06.0->pytorch_lightning==1.9.0) (6.0.5)\n",
      "Requirement already satisfied: yarl<2.0,>=1.0 in /home/jasper/miniforge3/envs/tasnet/lib/python3.10/site-packages (from aiohttp!=4.0.0a0,!=4.0.0a1->fsspec[http]>2021.06.0->pytorch_lightning==1.9.0) (1.9.4)\n",
      "Requirement already satisfied: async-timeout<5.0,>=4.0 in /home/jasper/miniforge3/envs/tasnet/lib/python3.10/site-packages (from aiohttp!=4.0.0a0,!=4.0.0a1->fsspec[http]>2021.06.0->pytorch_lightning==1.9.0) (4.0.3)\n",
      "Requirement already satisfied: MarkupSafe>=2.0 in /home/jasper/miniforge3/envs/tasnet/lib/python3.10/site-packages (from jinja2->torch>=1.10.0->pytorch_lightning==1.9.0) (2.1.5)\n",
      "Requirement already satisfied: mpmath>=0.19 in /home/jasper/miniforge3/envs/tasnet/lib/python3.10/site-packages (from sympy->torch>=1.10.0->pytorch_lightning==1.9.0) (1.3.0)\n",
      "Requirement already satisfied: idna>=2.0 in /home/jasper/miniforge3/envs/tasnet/lib/python3.10/site-packages (from yarl<2.0,>=1.0->aiohttp!=4.0.0a0,!=4.0.0a1->fsspec[http]>2021.06.0->pytorch_lightning==1.9.0) (3.6)\n",
      "Downloading pytorch_lightning-1.9.0-py3-none-any.whl (825 kB)\n",
      "\u001b[2K   \u001b[38;2;114;156;31m━━━━━━━━━━━━━━━━━━━━━━━━━━━━━━━━━━━━━━━\u001b[0m \u001b[32m825.8/825.8 kB\u001b[0m \u001b[31m901.5 kB/s\u001b[0m eta \u001b[36m0:00:00\u001b[0m[36m0:00:01\u001b[0m[36m0:00:01\u001b[0m:01\u001b[0m\n",
      "\u001b[?25hInstalling collected packages: pytorch_lightning\n",
      "  Attempting uninstall: pytorch_lightning\n",
      "    Found existing installation: pytorch-lightning 2.2.1\n",
      "    Uninstalling pytorch-lightning-2.2.1:\n",
      "      Successfully uninstalled pytorch-lightning-2.2.1\n",
      "\u001b[31mERROR: pip's dependency resolver does not currently take into account all the packages that are installed. This behaviour is the source of the following dependency conflicts.\n",
      "asteroid 0.7.0 requires pytorch-lightning>=2.0.0, but you have pytorch-lightning 1.9.0 which is incompatible.\u001b[0m\u001b[31m\n",
      "\u001b[0mSuccessfully installed pytorch_lightning-1.9.0\n"
     ]
    }
   ],
   "source": [
    "!pip install pytorch_lightning==1.9.0"
   ]
  },
  {
   "cell_type": "code",
   "execution_count": 8,
   "id": "beb58027-a472-40db-97c3-dda225d5b9b3",
   "metadata": {},
   "outputs": [
    {
     "name": "stdout",
     "output_type": "stream",
     "text": [
      "--2024-03-19 19:23:43--  https://play.forum.ircam.fr/rave-vst-api/get_model/isis\n",
      "Resolving play.forum.ircam.fr (play.forum.ircam.fr)... 129.102.1.173, 2001:660:3004:4001::ef23:257e\n",
      "Connecting to play.forum.ircam.fr (play.forum.ircam.fr)|129.102.1.173|:443... connected.\n",
      "HTTP request sent, awaiting response... 200 OK\n",
      "Length: 148725070 (142M) [application/x-download]\n",
      "Saving to: ‘isis’\n",
      "\n",
      "isis                100%[===================>] 141.83M  22.2MB/s    in 6.7s    \n",
      "\n",
      "2024-03-19 19:23:50 (21.2 MB/s) - ‘isis’ saved [148725070/148725070]\n",
      "\n"
     ]
    }
   ],
   "source": [
    "!wget https://play.forum.ircam.fr/rave-vst-api/get_model/isis"
   ]
  },
  {
   "cell_type": "code",
   "execution_count": null,
   "id": "34e5c326-584b-47e7-93da-f36dba4f98b7",
   "metadata": {},
   "outputs": [],
   "source": []
  }
 ],
 "metadata": {
  "kernelspec": {
   "display_name": "Python 3 (ipykernel)",
   "language": "python",
   "name": "python3"
  },
  "language_info": {
   "codemirror_mode": {
    "name": "ipython",
    "version": 3
   },
   "file_extension": ".py",
   "mimetype": "text/x-python",
   "name": "python",
   "nbconvert_exporter": "python",
   "pygments_lexer": "ipython3",
   "version": "3.10.13"
  }
 },
 "nbformat": 4,
 "nbformat_minor": 5
}
